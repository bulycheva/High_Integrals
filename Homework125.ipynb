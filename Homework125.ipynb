{
 "cells": [
  {
   "cell_type": "code",
   "execution_count": 20,
   "metadata": {},
   "outputs": [],
   "source": [
    "#import math\n",
    "#import sympy\n",
    "import numpy"
   ]
  },
  {
   "cell_type": "markdown",
   "metadata": {},
   "source": [
    "1. Implement integration over a rectangular domain with a double Legendre quadrature."
   ]
  },
  {
   "cell_type": "code",
   "execution_count": 13,
   "metadata": {},
   "outputs": [],
   "source": [
    "f = lambda x, y: 3*x**2 + 2*y"
   ]
  },
  {
   "cell_type": "code",
   "execution_count": 16,
   "metadata": {},
   "outputs": [],
   "source": [
    "n, m = 1000,1000\n",
    "Q = 0\n",
    "\n",
    "Rx = [0,1]\n",
    "Ry = [0,1]\n",
    "\n",
    "wj = (Rx[1] - Rx[0]) / n\n",
    "wk = (Ry[1] - Ry[0]) / m\n",
    "     \n",
    "for j in range(0, n):\n",
    "    xj = Rx[0] + wj * (j + 0.5)\n",
    "    for k in range(0, m):      \n",
    "        yk = Ry[0] + wk * (k + 0.5)\n",
    "        Q += f(xj, yk) * wj * wk"
   ]
  },
  {
   "cell_type": "code",
   "execution_count": 17,
   "metadata": {},
   "outputs": [
    {
     "data": {
      "text/plain": [
       "1.9999997500000017"
      ]
     },
     "execution_count": 17,
     "metadata": {},
     "output_type": "execute_result"
    }
   ],
   "source": [
    "Q"
   ]
  },
  {
   "cell_type": "markdown",
   "metadata": {},
   "source": [
    "2. Implement integration over a triangular domain with a mixed Legendre/Jacobi quadrature."
   ]
  },
  {
   "cell_type": "code",
   "execution_count": 37,
   "metadata": {},
   "outputs": [],
   "source": [
    "f = lambda x, y: x**2 + y"
   ]
  },
  {
   "cell_type": "code",
   "execution_count": 41,
   "metadata": {},
   "outputs": [
    {
     "name": "stdout",
     "output_type": "stream",
     "text": [
      "0.41666666666666663\n"
     ]
    }
   ],
   "source": [
    "xc = [0, 1, 1]\n",
    "yc = [0, 0, 1]\n",
    "I_f = 0\n",
    "\n",
    "alpha = [[1/2, 0, 1/2],[1/2, 1/2, 0],[0, 1/2, 1/2]]\n",
    "W = [1/3, 1/3, 1/3]\n",
    "\n",
    "x = numpy.dot(alpha,xc)\n",
    "y = numpy.dot(alpha,yc)\n",
    "\n",
    "A = (xc[1]*yc[2] - xc[2]*yc[1] - xc[0]*yc[2] + xc[2]*yc[0] + xc[0]*yc[1] - xc[1]*yc[0])/2\n",
    "\n",
    "for i in range(3):\n",
    "    I_f += W[i] * f(x[i], y[i])\n",
    "    \n",
    "print(I_f*A)"
   ]
  },
  {
   "cell_type": "code",
   "execution_count": null,
   "metadata": {},
   "outputs": [],
   "source": []
  },
  {
   "cell_type": "code",
   "execution_count": null,
   "metadata": {},
   "outputs": [],
   "source": []
  },
  {
   "cell_type": "code",
   "execution_count": null,
   "metadata": {},
   "outputs": [],
   "source": []
  },
  {
   "cell_type": "code",
   "execution_count": null,
   "metadata": {},
   "outputs": [],
   "source": []
  }
 ],
 "metadata": {
  "kernelspec": {
   "display_name": "Python 3",
   "language": "python",
   "name": "python3"
  },
  "language_info": {
   "codemirror_mode": {
    "name": "ipython",
    "version": 3
   },
   "file_extension": ".py",
   "mimetype": "text/x-python",
   "name": "python",
   "nbconvert_exporter": "python",
   "pygments_lexer": "ipython3",
   "version": "3.6.5"
  }
 },
 "nbformat": 4,
 "nbformat_minor": 2
}
